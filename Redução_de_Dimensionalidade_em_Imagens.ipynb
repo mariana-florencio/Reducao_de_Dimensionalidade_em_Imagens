{
  "nbformat": 4,
  "nbformat_minor": 0,
  "metadata": {
    "colab": {
      "provenance": [],
      "authorship_tag": "ABX9TyNNkhAP4QpXJtm3uWIMtUWs"
    },
    "kernelspec": {
      "name": "python3",
      "display_name": "Python 3"
    },
    "language_info": {
      "name": "python"
    }
  },
  "cells": [
    {
      "cell_type": "markdown",
      "source": [
        "# **Convertendo uma imagem colorida para uma em tons de CINZA:**"
      ],
      "metadata": {
        "id": "tRZIo_rPURFr"
      }
    },
    {
      "cell_type": "markdown",
      "source": [
        "Sem NumPy"
      ],
      "metadata": {
        "id": "eLsBaMMsbYFI"
      }
    },
    {
      "cell_type": "code",
      "source": [
        "from PIL import Image\n",
        "\n",
        "def carregar_imagem(caminho_imagem):\n",
        "    imagem = Image.open(caminho_imagem)\n",
        "    # imagem em uma matriz de pixels RGB\n",
        "    pixels = list(imagem.convert(\"RGB\").getdata()) #getdata extrai os pixels\n",
        "    largura, altura = imagem.size\n",
        "    matriz = [pixels[i * largura:(i + 1) * largura] for i in range(altura)]\n",
        "    return matriz, largura, altura\n",
        "\n",
        "def converter_para_cinza(matriz, largura, altura, caminho_saida):\n",
        "    # matriz para armazenar a imagem em tons de cinza\n",
        "    imagem_cinza = []\n",
        "    for linha in matriz:\n",
        "        nova_linha = []\n",
        "        for pixel in linha:\n",
        "            R, G, B = pixel\n",
        "\n",
        "            gray = int(0.2989 * R + 0.5870 * G + 0.1140 * B)\n",
        "            nova_linha.append((gray, gray, gray))\n",
        "        imagem_cinza.append(nova_linha)\n",
        "\n",
        "\n",
        "    imagem_cinza_pillow = Image.new(\"RGB\", (largura, altura))\n",
        "    imagem_cinza_pillow.putdata([pixel for linha in imagem_cinza for pixel in linha])\n",
        "    #insere os pixels da matriz imagem_cinza na nova imagem^\n",
        "    imagem_cinza_pillow.save(caminho_saida)\n",
        "\n",
        "\n",
        "caminho_imagem = 'imagemcolorida.jpg'\n",
        "caminho_saida = \"imagem_cinza.jpg\"\n",
        "matriz, largura, altura = carregar_imagem(caminho_imagem)\n",
        "converter_para_cinza(matriz, largura, altura, caminho_saida)\n"
      ],
      "metadata": {
        "id": "775T-UNULjF7"
      },
      "execution_count": 46,
      "outputs": []
    },
    {
      "cell_type": "markdown",
      "source": [
        "Com Numpy"
      ],
      "metadata": {
        "id": "sAJOmvLCbbyK"
      }
    },
    {
      "cell_type": "code",
      "source": [
        "import numpy as np\n",
        "from PIL import Image\n",
        "\n",
        "def carregar_imagem(caminho_imagem):\n",
        "    imagem = Image.open(caminho_imagem)\n",
        "    matriz = np.array(imagem)\n",
        "    return matriz\n",
        "\n",
        "def converter_para_cinza(matriz):\n",
        "    R, G, B = matriz[:,:,0], matriz[:,:,1], matriz[:,:,2] #numero-> valores de cada coluna 0,1,2\n",
        "    cinza = (0.2989 * R + 0.5870 * G + 0.1140 * B).astype(np.uint8)\n",
        "    imagem_cinza = np.stack((cinza, cinza, cinza), axis=-1)\n",
        "    return imagem_cinza\n",
        "\n",
        "def salvar_imagem(matriz, caminho_saida):\n",
        "    imagem_pillow = Image.fromarray(matriz)\n",
        "    imagem_pillow.save(caminho_saida)\n",
        "\n",
        "caminho_imagem = 'imagemcolorida.jpg'\n",
        "caminho_saida_cinza = 'imagem_cinza.jpg'\n",
        "matriz_imagem = carregar_imagem(caminho_imagem)\n",
        "imagem_cinza = converter_para_cinza(matriz_imagem)\n",
        "salvar_imagem(imagem_cinza, caminho_saida_cinza)\n"
      ],
      "metadata": {
        "id": "64K_7r0SYPL9"
      },
      "execution_count": 44,
      "outputs": []
    },
    {
      "cell_type": "markdown",
      "source": [
        "# **Convertendo uma imagem em tons de cinza para uma imagem BINARIZADA (preto e branco)**"
      ],
      "metadata": {
        "id": "zc-IjFihUXk5"
      }
    },
    {
      "cell_type": "code",
      "source": [
        "import numpy as np\n",
        "from PIL import Image\n",
        "\n",
        "def binarizar_imagem(caminho_imagem_cinza, caminho_saida_binario, limiar=128):\n",
        "    imagem_cinza = Image.open(caminho_imagem_cinza)\n",
        "    matriz_cinza = np.array(imagem_cinza)\n",
        "    canal_cinza = matriz_cinza[:, :, 0]\n",
        "\n",
        "    # se o valor do pixel for maior ou igual ao limiar, será branco (255), senão preto (0)\n",
        "    binarizada = (canal_cinza >= limiar) * 255  # A operação resulta em 0 ou 255\n",
        "\n",
        "    imagem_binaria = np.stack((binarizada, binarizada, binarizada), axis=-1).astype(np.uint8)\n",
        "\n",
        "    imagem_binaria_pillow = Image.fromarray(imagem_binaria)\n",
        "    imagem_binaria_pillow.save(caminho_saida_binario)\n",
        "\n",
        "caminho_imagem_cinza = \"imagem_cinza.jpg\"\n",
        "caminho_saida_binario = \"imagem_binaria.jpg\"\n",
        "binarizar_imagem(caminho_imagem_cinza, caminho_saida_binario)\n"
      ],
      "metadata": {
        "id": "UEApDbSeUZI6"
      },
      "execution_count": 45,
      "outputs": []
    }
  ]
}